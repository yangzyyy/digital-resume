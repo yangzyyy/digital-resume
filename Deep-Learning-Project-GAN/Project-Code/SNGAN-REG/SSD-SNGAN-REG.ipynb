{
 "cells": [
  {
   "cell_type": "code",
   "execution_count": null,
   "metadata": {
    "colab": {
     "base_uri": "https://localhost:8080/"
    },
    "executionInfo": {
     "elapsed": 49857,
     "status": "ok",
     "timestamp": 1680581526765,
     "user": {
      "displayName": "Youyang “Arlene” Zhang",
      "userId": "01365052532827648070"
     },
     "user_tz": -480
    },
    "id": "jRRjIysI5UJ8",
    "outputId": "b887cd74-8921-4f3c-e75e-8d59fb5ccf47"
   },
   "outputs": [],
   "source": [
    "import torch\n",
    "import torch.optim as optim\n",
    "import torch_mimicry as mmc\n",
    "import models.ssd_sngan_32 as ssd_sngan\n",
    "import torchvision.transforms as transforms\n",
    "from torch.utils.tensorboard import SummaryWriter\n",
    "from torchvision import utils as vutils"
   ]
  },
  {
   "cell_type": "code",
   "execution_count": null,
   "metadata": {},
   "outputs": [],
   "source": [
    "# Data handling objects\n",
    "device = torch.device('cuda:0' if torch.cuda.is_available() else \"cpu\")\n",
    "dataset = mmc.datasets.load_dataset(root='./ssd-sngan-reg/datasets/', name='cifar10')\n",
    "dataloader = torch.utils.data.DataLoader(dataset, \n",
    "                                         batch_size=64, \n",
    "                                         shuffle=True, \n",
    "                                         num_workers=4)\n",
    "\n",
    "# Define models and optimizers\n",
    "netG = ssd_sngan.SSD_SNGANGenerator32().to(device)\n",
    "netD = ssd_sngan.SSD_SNGANDiscriminator32().to(device)\n",
    "optD = optim.Adam(netD.parameters(), 2e-4, betas=(0.0, 0.9))\n",
    "optG = optim.Adam(netG.parameters(), 2e-4, betas=(0.0, 0.9))\n",
    "\n",
    "# Set up trainer\n",
    "trainer = mmc.training.Trainer(\n",
    "    netD=netD,\n",
    "    netG=netG,\n",
    "    optD=optD,\n",
    "    optG=optG,\n",
    "    n_dis=5,\n",
    "    num_steps=100000,\n",
    "    lr_decay='linear',\n",
    "    dataloader=dataloader,\n",
    "    log_dir='./ssd-sngan-reg/log/cifar10',\n",
    "    device=device)"
   ]
  },
  {
   "cell_type": "code",
   "execution_count": null,
   "metadata": {},
   "outputs": [],
   "source": [
    "# Start training\n",
    "trainer.train()"
   ]
  },
  {
   "cell_type": "code",
   "execution_count": null,
   "metadata": {
    "colab": {
     "base_uri": "https://localhost:8080/",
     "height": 496
    },
    "executionInfo": {
     "elapsed": 92387,
     "status": "error",
     "timestamp": 1680527164219,
     "user": {
      "displayName": "Youyang “Arlene” Zhang",
      "userId": "01365052532827648070"
     },
     "user_tz": -480
    },
    "id": "LZEZDEgU1EIh",
    "outputId": "09c8739b-3602-4ffb-fee9-b2fe555d47bc"
   },
   "outputs": [],
   "source": [
    "# Calculate FID score\n",
    "mmc.metrics.evaluate(metric='fid',\n",
    "                     log_dir='./ssd-sngan-reg/log/cifar10',\n",
    "                     netG=netG,\n",
    "                     dataset='cifar10',\n",
    "                     num_real_samples=1000,\n",
    "                     num_fake_samples=1000,\n",
    "                     evaluate_step=100000,\n",
    "                     num_runs=1,\n",
    "                     device=device\n",
    "                    )"
   ]
  },
  {
   "cell_type": "code",
   "execution_count": null,
   "metadata": {
    "id": "ThP3CX0nSnFS"
   },
   "outputs": [],
   "source": [
    "# Generate images \n",
    "logger = mmc.training.Logger(\n",
    "    log_dir = './ssd-sngan-reg/log/cifar10',\n",
    "    num_steps = 100000,\n",
    "    dataset_size = 60000,\n",
    "    device = device\n",
    ")\n",
    "\n",
    "logger.vis_images(\n",
    "    netG = netG, \n",
    "    global_step = 100000, \n",
    "    num_images=64)"
   ]
  }
 ],
 "metadata": {
  "colab": {
   "authorship_tag": "ABX9TyPGP2u4wN1mpnB54nTDvodk",
   "machine_shape": "hm",
   "mount_file_id": "1jC4d61_Yb13Qs03rxLKisd-yk2V6lAS-",
   "provenance": []
  },
  "gpuClass": "premium",
  "kernelspec": {
   "display_name": "Python 3.10 (tensorflow)",
   "language": "python",
   "name": "tensorflow"
  },
  "language_info": {
   "codemirror_mode": {
    "name": "ipython",
    "version": 3
   },
   "file_extension": ".py",
   "mimetype": "text/x-python",
   "name": "python",
   "nbconvert_exporter": "python",
   "pygments_lexer": "ipython3",
   "version": "3.10.8"
  }
 },
 "nbformat": 4,
 "nbformat_minor": 1
}
