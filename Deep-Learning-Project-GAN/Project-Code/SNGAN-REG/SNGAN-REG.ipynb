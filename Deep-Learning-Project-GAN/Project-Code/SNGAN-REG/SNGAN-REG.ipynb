{
 "cells": [
  {
   "cell_type": "code",
   "execution_count": null,
   "metadata": {
    "executionInfo": {
     "elapsed": 788,
     "status": "ok",
     "timestamp": 1680581116578,
     "user": {
      "displayName": "Youyang “Arlene” Zhang",
      "userId": "01365052532827648070"
     },
     "user_tz": -480
    },
    "id": "MXbw3VXZjTT8"
   },
   "outputs": [],
   "source": [
    "import torch\n",
    "import torch.optim as optim\n",
    "import torch_mimicry as mmc\n",
    "from torch_mimicry.nets import sngan\n",
    "from torch.utils.data import Dataset\n",
    "import torchvision.transforms as transforms\n",
    "from torch.utils.tensorboard import SummaryWriter\n",
    "from torchvision import utils as vutils"
   ]
  },
  {
   "cell_type": "code",
   "execution_count": null,
   "metadata": {
    "colab": {
     "base_uri": "https://localhost:8080/"
    },
    "executionInfo": {
     "elapsed": 1218,
     "status": "ok",
     "timestamp": 1680581145526,
     "user": {
      "displayName": "Youyang “Arlene” Zhang",
      "userId": "01365052532827648070"
     },
     "user_tz": -480
    },
    "id": "BHbyxK-CcKmg",
    "outputId": "a6cdb528-3370-4637-d91d-a5f9894b01de"
   },
   "outputs": [],
   "source": [
    "device = torch.device('cuda:0' if torch.cuda.is_available() else \"cpu\")\n",
    "dataset = mmc.datasets.load_dataset(root='./sngan/datasets', name='cifar10')\n",
    "dataloader = torch.utils.data.DataLoader(dataset,\n",
    "                                         batch_size=64,\n",
    "                                         shuffle=True,\n",
    "                                         num_workers=4)\n",
    "\n",
    "# Define models and optimizers\n",
    "netG = sngan.SNGANGenerator32().to(device)\n",
    "netD = sngan.SNGANDiscriminator32().to(device)\n",
    "optD = optim.Adam(netD.parameters(), 2e-4, betas=(0.0, 0.9))\n",
    "optG = optim.Adam(netG.parameters(), 2e-4, betas=(0.0, 0.9))\n",
    "\n",
    "# Set up trainer\n",
    "trainer = mmc.training.Trainer(netD=netD,\n",
    "                               netG=netG,\n",
    "                               optD=optD,\n",
    "                               optG=optG,\n",
    "                               n_dis=5,\n",
    "                               num_steps=100000,\n",
    "                               lr_decay='linear',\n",
    "                               dataloader=dataloader,\n",
    "                               log_dir='./sngan-reg/log/cifar10',\n",
    "                               device=device\n",
    "                               )"
   ]
  },
  {
   "cell_type": "code",
   "execution_count": null,
   "metadata": {
    "colab": {
     "base_uri": "https://localhost:8080/",
     "height": 353
    },
    "executionInfo": {
     "elapsed": 602,
     "status": "error",
     "timestamp": 1680581171734,
     "user": {
      "displayName": "Youyang “Arlene” Zhang",
      "userId": "01365052532827648070"
     },
     "user_tz": -480
    },
    "id": "4pzBO80SbidH",
    "outputId": "1b9b7f37-82cc-41d2-e906-7b99d60070b8"
   },
   "outputs": [],
   "source": [
    "# Start training\n",
    "trainer.train()"
   ]
  },
  {
   "cell_type": "code",
   "execution_count": null,
   "metadata": {
    "id": "meFbFtuEPiG9"
   },
   "outputs": [],
   "source": [
    "# Calculate FID score\n",
    "mmc.metrics.evaluate(metric='fid',\n",
    "                     log_dir='./sngan-reg/log/cifar10',\n",
    "                     netG=netG,\n",
    "                     dataset='cifar10',\n",
    "                     num_real_samples=1000,\n",
    "                     num_fake_samples=1000,\n",
    "                     evaluate_step=100000,\n",
    "                     num_runs=1,\n",
    "                     device=device)"
   ]
  },
  {
   "cell_type": "code",
   "execution_count": null,
   "metadata": {
    "id": "PTBrUlnqm8fn"
   },
   "outputs": [],
   "source": [
    "# Generate images\n",
    "logger = mmc.training.Logger(\n",
    "    log_dir = './sngan-reg/log/cifar10',\n",
    "    num_steps = 100000,\n",
    "    dataset_size = 60000,\n",
    "    device = device\n",
    ")\n",
    "\n",
    "logger.vis_images(\n",
    "    netG = netG, \n",
    "    global_step = 100000, \n",
    "    num_images=64)"
   ]
  },
  {
   "cell_type": "code",
   "execution_count": null,
   "metadata": {
    "id": "KDseKeXMWJdW"
   },
   "outputs": [],
   "source": []
  }
 ],
 "metadata": {
  "accelerator": "GPU",
  "colab": {
   "authorship_tag": "ABX9TyNNexGaJjxnu+6whHFOsUoq",
   "machine_shape": "hm",
   "provenance": []
  },
  "gpuClass": "premium",
  "kernelspec": {
   "display_name": "Python 3.10 (tensorflow)",
   "language": "python",
   "name": "tensorflow"
  },
  "language_info": {
   "codemirror_mode": {
    "name": "ipython",
    "version": 3
   },
   "file_extension": ".py",
   "mimetype": "text/x-python",
   "name": "python",
   "nbconvert_exporter": "python",
   "pygments_lexer": "ipython3",
   "version": "3.10.8"
  }
 },
 "nbformat": 4,
 "nbformat_minor": 4
}
